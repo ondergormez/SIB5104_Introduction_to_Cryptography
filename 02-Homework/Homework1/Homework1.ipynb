{
 "cells": [
  {
   "cell_type": "markdown",
   "metadata": {},
   "source": [
    "# Homework 1: Public Key Cryptography (RSA)\n",
    "Ad Soyad: Önder Görmez  \n",
    "Öğrenci No: 21501035"
   ]
  },
  {
   "cell_type": "markdown",
   "metadata": {},
   "source": [
    "# Soru 1\n",
    "Bir RSA şifreleme sistemi geliştirmeniz gerekmektedir. Gereksinimler:  \n",
    "a. p ve q asalları 100 ile 1000 arasında olmalıdır.  \n",
    "b. 2 farklı (e, d) çifti elde edilecektir."
   ]
  },
  {
   "cell_type": "code",
   "execution_count": 19,
   "metadata": {},
   "outputs": [],
   "source": [
    "import rsa_gs\n",
    "\n",
    "\n",
    "def generate_key_pair(key_size):\n",
    "\n",
    "    # User input validation part\n",
    "    if key_size == \"\":\n",
    "        key_size = 8\n",
    "\n",
    "    try:\n",
    "        key_size = float(key_size)\n",
    "    except ValueError:\n",
    "        raise Exception(\"Key size must be integer type\")\n",
    "\n",
    "    if (key_size != int(key_size)):\n",
    "        raise Exception(\"Key size must be integer type\")\n",
    "\n",
    "    if (key_size < 8 or key_size > 12):\n",
    "        raise Exception(\"Key size must be between 8 and 12\")\n",
    "\n",
    "    return rsa_gs.RSA_GS.generate_key_pair(int(key_size))"
   ]
  },
  {
   "cell_type": "markdown",
   "metadata": {},
   "source": [
    "# Alice'in Anahtarlarının Oluşturması"
   ]
  },
  {
   "cell_type": "code",
   "execution_count": 20,
   "metadata": {},
   "outputs": [
    {
     "name": "stdout",
     "output_type": "stream",
     "text": [
      "Generating prime number p...\n",
      "Generated prime number:  701\n",
      "Generating prime number q...\n",
      "Generated prime number:  733\n",
      "\n",
      "Calculating modulus: N = p * q\n",
      "Modulus (N):  513833\n",
      "Computing Euler's totient function: phi = (p - 1) * (q - 1)\n",
      "phi:  512400\n",
      "\n",
      "Generating public exponent (e)...\n",
      "Greatest common divisor of 283 and 512400: 1\n",
      "Public Exponent (e):  283\n",
      "\n",
      "Generating private exponent (d)...\n",
      "Private Exponent (d):  503347\n",
      "\n",
      "Alice public key (e, N): (283, 513833)\n",
      "Alice private key (d, N): (503347, 513833)\n"
     ]
    }
   ],
   "source": [
    "key_size_in_bits = 10\n",
    "\n",
    "alice_public_key, alice_private_key = generate_key_pair(key_size_in_bits)\n",
    "\n",
    "print(f\"Alice public key (e, N): {alice_public_key}\")\n",
    "print(f\"Alice private key (d, N): {alice_private_key}\")"
   ]
  },
  {
   "cell_type": "markdown",
   "metadata": {},
   "source": [
    "# Bob'un Anahtarlarının Oluşturması"
   ]
  },
  {
   "cell_type": "code",
   "execution_count": 21,
   "metadata": {},
   "outputs": [
    {
     "name": "stdout",
     "output_type": "stream",
     "text": [
      "Generating prime number p...\n",
      "Generated prime number:  853\n",
      "Generating prime number q...\n",
      "Generated prime number:  263\n",
      "\n",
      "Calculating modulus: N = p * q\n",
      "Modulus (N):  224339\n",
      "Computing Euler's totient function: phi = (p - 1) * (q - 1)\n",
      "phi:  223224\n",
      "\n",
      "Generating public exponent (e)...\n",
      "Greatest common divisor of 139194 and 223224: 6\n",
      "Greatest common divisor of 72868 and 223224: 4\n",
      "Greatest common divisor of 160888 and 223224: 8\n",
      "Greatest common divisor of 78272 and 223224: 8\n",
      "Greatest common divisor of 39588 and 223224: 12\n",
      "Greatest common divisor of 209898 and 223224: 6\n",
      "Greatest common divisor of 201152 and 223224: 8\n",
      "Greatest common divisor of 203768 and 223224: 8\n",
      "Greatest common divisor of 140360 and 223224: 8\n",
      "Greatest common divisor of 7294 and 223224: 2\n",
      "Greatest common divisor of 12928 and 223224: 8\n",
      "Greatest common divisor of 101172 and 223224: 12\n",
      "Greatest common divisor of 197534 and 223224: 2\n",
      "Greatest common divisor of 172899 and 223224: 3\n",
      "Greatest common divisor of 74458 and 223224: 2\n",
      "Greatest common divisor of 10154 and 223224: 2\n",
      "Greatest common divisor of 89756 and 223224: 4\n",
      "Greatest common divisor of 114698 and 223224: 2\n",
      "Greatest common divisor of 94712 and 223224: 8\n",
      "Greatest common divisor of 171507 and 223224: 3\n",
      "Greatest common divisor of 170766 and 223224: 6\n",
      "Greatest common divisor of 201601 and 223224: 1\n",
      "Public Exponent (e):  201601\n",
      "\n",
      "Generating private exponent (d)...\n",
      "Private Exponent (d):  207553\n",
      "\n",
      "Bob public key (e, N): (201601, 224339)\n",
      "Bob private key (d, N): (207553, 224339)\n"
     ]
    }
   ],
   "source": [
    "key_size_in_bits = 10\n",
    "\n",
    "bob_public_key, bob_private_key = generate_key_pair(key_size_in_bits)\n",
    "\n",
    "print(f\"Bob public key (e, N): {bob_public_key}\")\n",
    "print(f\"Bob private key (d, N): {bob_private_key}\")"
   ]
  },
  {
   "cell_type": "markdown",
   "metadata": {},
   "source": [
    "# Soru 2\n",
    "M = KRIPTOGRAFI iletisinin özetini çıkartmanız gerekmektedir.  \n",
    "Özet çıkartmak için her bir karakterin ASCII kodunu kullanarak karakterleri sırayla XOR işlemine tabi tutmanız yeterlidir.\n",
    "| A  | F  | G  | I  | K  | O  | P  | R  | T  |\n",
    "|----|----|----|----|----|----|----|----|----|\n",
    "| 65 | 70 | 71 | 73 | 75 | 79 | 80 | 82 | 84 |"
   ]
  },
  {
   "cell_type": "code",
   "execution_count": 22,
   "metadata": {},
   "outputs": [
    {
     "name": "stdout",
     "output_type": "stream",
     "text": [
      "Text: \t\t K   R   I   P   T   O   G   R   A   F   I   \n",
      "ASCII code: \t 75  82  73  80  84  79  71  82  65  70  73  \n",
      "\n",
      "0 xor 75 = 75\n",
      "75 xor 82 = 25\n",
      "25 xor 73 = 80\n",
      "80 xor 80 = 0\n",
      "0 xor 84 = 84\n",
      "84 xor 79 = 27\n",
      "27 xor 71 = 92\n",
      "92 xor 82 = 14\n",
      "14 xor 65 = 79\n",
      "79 xor 70 = 9\n",
      "9 xor 73 = 64\n",
      "\n",
      "Digest of the 'KRIPTOGRAFI' is: 64\n",
      "Message digest as hex string: 0x 40\n",
      "Message digest as character: @\n"
     ]
    }
   ],
   "source": [
    "import digest\n",
    "\n",
    "message = \"KRIPTOGRAFI\"\n",
    "message_length = len(message)\n",
    "\n",
    "message_digest_int = digest.Digest.calculate_digest(message)\n",
    "message_digest_char = chr(message_digest_int)\n",
    "\n",
    "print(\"Message digest as hex string: 0x\", rsa_gs.RSA_GS.convert_to_hex_string(message_digest_char))\n",
    "print(\"Message digest as character:\", message_digest_char)"
   ]
  },
  {
   "cell_type": "markdown",
   "metadata": {},
   "source": [
    "# Soru 3\n",
    "RSA İmzalama: Elde ettiğiniz anahtar çiftlerinden ilkinin gizli anahtarını kullanarak elde ettiğiniz özeti şifreleyiniz.  \n",
    "Elde ettiğiniz sonucu 3 bayt olarak ifade etmeniz uygun olacaktır, bu amaçla baş tarafına yeteri kadar 0 ekleyiniz."
   ]
  },
  {
   "cell_type": "code",
   "execution_count": 23,
   "metadata": {},
   "outputs": [
    {
     "name": "stdout",
     "output_type": "stream",
     "text": [
      "Plaintext:  @\n",
      "Plaintext hex string:  40\n",
      "Ciphertext:  𦆧\n",
      "Ciphertext hex string:  F0A686A7\n"
     ]
    }
   ],
   "source": [
    "ciphertext_string, ciphertext_hex_string, plaintext_hex_string = rsa_gs.RSA_GS.encrypt(\n",
    "    alice_private_key, message_digest_char)"
   ]
  },
  {
   "cell_type": "markdown",
   "metadata": {},
   "source": [
    "Önemli Not: Kurguladığım algoritmada şifrelenmiş sonuç 3 byte değerini geçtiği için padding eklenmedi."
   ]
  },
  {
   "cell_type": "markdown",
   "metadata": {},
   "source": [
    "# Soru 4\n",
    "RSA Şifreleme: 11 Bayt uzunluğundaki iletiye 3 bayt uzunluğundaki imzayı ekleyip 14 bayt uzunluğundaki imzalı iletiyi, ikişer bayt birleştirerek, anahtar çiftlerinin ikincisinin açık anahtarı ile şifreleyiniz.  \n",
    "İkişer bayt şifrelendiğinde üçer bayt sonuç elde etmeniz gerekmektedir.  \n",
    "Bu amaçla elde ettiğiniz sonuçların başına gerektiği kadar 0 ekleyiniz.\n",
    "\n",
    "Önemli Not: Benim kurguladığım algoritmada 2 byte şifrelendiğinde 3 byte sonuç çıkmamaktadır. Bu nedenle padding eklenmedi."
   ]
  },
  {
   "cell_type": "code",
   "execution_count": 24,
   "metadata": {},
   "outputs": [
    {
     "name": "stdout",
     "output_type": "stream",
     "text": [
      "message: KRIPTOGRAFI\n",
      "Message in hex string: 4B524950544F4752414649\n",
      "Message with signature: KRIPTOGRAFI𦆧\n",
      "Message with signature in hex string: 4B524950544F4752414649F0A686A7\n"
     ]
    }
   ],
   "source": [
    "print(\"message:\", message)\n",
    "message_hex_string = rsa_gs.RSA_GS.convert_to_hex_string(message)\n",
    "print(f\"Message in hex string: {message_hex_string}\")\n",
    "\n",
    "message_with_signature = message + ciphertext_string\n",
    "print(f\"Message with signature: {message_with_signature}\")\n",
    "\n",
    "message_with_signature_hex_string = rsa_gs.RSA_GS.convert_to_hex_string(message_with_signature)\n",
    "print(f\"Message with signature in hex string: {message_with_signature_hex_string}\")"
   ]
  },
  {
   "cell_type": "code",
   "execution_count": 25,
   "metadata": {},
   "outputs": [
    {
     "name": "stdout",
     "output_type": "stream",
     "text": [
      "Plaintext:  KRIPTOGRAFI𦆧\n",
      "Plaintext hex string:  4B524950544F4752414649F0A686A7\n",
      "Ciphertext:  𡊄睥𴓥𥸵𐾿𢹥睥𲁄\n",
      "Ciphertext hex string:  F0A18A84EE84A5E79DA5EEB480F0B493A5EF8589F0A5B8B5EE84A5F090BEBFF0A2B9A5E79DA5F0B28184\n"
     ]
    }
   ],
   "source": [
    "ciphertext_string, ciphertext_hex_string, plaintext_hex_string = rsa_gs.RSA_GS.encrypt(\n",
    "    bob_public_key, message_with_signature)"
   ]
  },
  {
   "cell_type": "markdown",
   "metadata": {},
   "source": [
    "Yukarıdaki sonuç Soru 4 kapsamındaki isterleri karşılamakla beraber, işlemlerin doğruluğunu ispatlamamaktadır. İspat için;\n",
    "* Bob un public key i ile şifrelenmiş iletinin, yine bob un private key i ile çözülmesi gerekir."
   ]
  },
  {
   "cell_type": "code",
   "execution_count": 26,
   "metadata": {},
   "outputs": [
    {
     "name": "stdout",
     "output_type": "stream",
     "text": [
      "Ciphertext:  𡊄睥𴓥𥸵𐾿𢹥睥𲁄\n",
      "Ciphertext hex string:  F0A18A84EE84A5E79DA5EEB480F0B493A5EF8589F0A5B8B5EE84A5F090BEBFF0A2B9A5E79DA5F0B28184\n",
      "Plaintext:  KRIPTOGRAFI𦆧\n",
      "Plaintext hex string:  4B524950544F4752414649F0A686A7\n"
     ]
    }
   ],
   "source": [
    "plaintext_string, plaintext_hex_string = rsa_gs.RSA_GS.decrypt(bob_private_key, ciphertext_string)"
   ]
  },
  {
   "cell_type": "code",
   "execution_count": 27,
   "metadata": {},
   "outputs": [
    {
     "name": "stdout",
     "output_type": "stream",
     "text": [
      "Decrypted message: KRIPTOGRAFI\n",
      "Decrypted message signature: 𦆧\n",
      "Decrypted message signature in hex string:  F0A686A7\n"
     ]
    },
    {
     "data": {
      "text/plain": [
       "True"
      ]
     },
     "execution_count": 27,
     "metadata": {},
     "output_type": "execute_result"
    }
   ],
   "source": [
    "decrypted_message = plaintext_string[:message_length]\n",
    "print(f\"Decrypted message: {decrypted_message}\")\n",
    "\n",
    "decrypted_message_signature = plaintext_string[message_length:]\n",
    "print(f\"Decrypted message signature: {decrypted_message_signature}\")\n",
    "print(f\"Decrypted message signature in hex string: \", rsa_gs.RSA_GS.convert_to_hex_string(decrypted_message_signature))\n",
    "\n",
    "message == decrypted_message"
   ]
  },
  {
   "cell_type": "markdown",
   "metadata": {},
   "source": [
    "* Çözülen metindeki ilk 11 byte harici kalan signature kısmı, Alice in private key i ile encrypt edilmiştir.\n",
    "* Bu kısmın, Alice in public key i ile decrypt edilmesi gerekir.\n",
    "* Böylelikle orjinal mesajın hash i elde edilmiş olur."
   ]
  },
  {
   "cell_type": "code",
   "execution_count": 28,
   "metadata": {},
   "outputs": [
    {
     "name": "stdout",
     "output_type": "stream",
     "text": [
      "Ciphertext:  𦆧\n",
      "Ciphertext hex string:  F0A686A7\n",
      "Plaintext:  @\n",
      "Plaintext hex string:  40\n",
      "\n",
      "Decrypted message digest: @\n",
      "Decrypted message digest in hex string:  40\n"
     ]
    }
   ],
   "source": [
    "plaintext_hash_string, plaintext_hash_hex_string = rsa_gs.RSA_GS.decrypt(\n",
    "    alice_public_key, decrypted_message_signature)\n",
    "\n",
    "print()\n",
    "print(f\"Decrypted message digest: {plaintext_hash_string}\")\n",
    "print(f\"Decrypted message digest in hex string: \", plaintext_hash_hex_string)"
   ]
  },
  {
   "cell_type": "markdown",
   "metadata": {},
   "source": [
    "Bob gelen mesajın hash ini alır ve mesaj ile gelen hash i karşılaştırır.\n",
    "* Eğer eşitse mesajın doğruluğunu kabul eder."
   ]
  },
  {
   "cell_type": "code",
   "execution_count": 29,
   "metadata": {},
   "outputs": [
    {
     "name": "stdout",
     "output_type": "stream",
     "text": [
      "Text: \t\t K   R   I   P   T   O   G   R   A   F   I   \n",
      "ASCII code: \t 75  82  73  80  84  79  71  82  65  70  73  \n",
      "\n",
      "0 xor 75 = 75\n",
      "75 xor 82 = 25\n",
      "25 xor 73 = 80\n",
      "80 xor 80 = 0\n",
      "0 xor 84 = 84\n",
      "84 xor 79 = 27\n",
      "27 xor 71 = 92\n",
      "92 xor 82 = 14\n",
      "14 xor 65 = 79\n",
      "79 xor 70 = 9\n",
      "9 xor 73 = 64\n",
      "\n",
      "Digest of the 'KRIPTOGRAFI' is: 64\n",
      "Message digest as hex string: 0x 40\n",
      "Message digest as character: @\n"
     ]
    },
    {
     "data": {
      "text/plain": [
       "True"
      ]
     },
     "execution_count": 29,
     "metadata": {},
     "output_type": "execute_result"
    }
   ],
   "source": [
    "hash_of_decrypted_message_int = digest.Digest.calculate_digest(decrypted_message)\n",
    "\n",
    "\n",
    "hash_of_decrypted_message_char = chr(hash_of_decrypted_message_int)\n",
    "\n",
    "print(\"Message digest as hex string: 0x\", rsa_gs.RSA_GS.convert_to_hex_string(hash_of_decrypted_message_char))\n",
    "print(\"Message digest as character:\", hash_of_decrypted_message_char)\n",
    "\n",
    "plaintext_hash_string == hash_of_decrypted_message_char"
   ]
  },
  {
   "cell_type": "markdown",
   "metadata": {},
   "source": [
    "# Soru 5\n",
    "Bu işlemleri yaparken, kullandığınız her bir algoritmanın nasıl kullanıldığını açıklayınız.  \n",
    "Kod yazmanız gerekli olmamakla birlikte, kod yazarak daha kolay yapacağınızı düşünüyorsanız kodlarınızı da paylaşınız."
   ]
  },
  {
   "cell_type": "markdown",
   "metadata": {},
   "source": [
    "Algoritmanın akış diyagramı aşağıdaki gibidir:\n",
    "\n",
    "![](FlowChart.drawio.png)"
   ]
  },
  {
   "cell_type": "markdown",
   "metadata": {},
   "source": [
    "# RSA Key Generation\n",
    "RSA algoritmasını aşağıdaki şekilde implemente ettim;\n",
    "* İlk olarak çok büyük asal sayılar p ve q oluşturulur.\n",
    "* Bu sayılar ile N ve φ(N) hesaplanır.\n",
    "    * N = p * q, N değeri modulüs olarak da bilinir.\n",
    "    * φ(N) = (p - 1) * (q - 1), φ(N) Euler's Totient Function olarak da bilinir. Değeri asal olmayan sayılar için, N değerinden küçük ve N ile aralarında asal olan sayıların sayısını verir.\n",
    "* e değeri, 1 < e < φ(N) ve gcd(e, φ(N)) = 1 olacak şekilde seçilir. e değeri public exponent olarak da bilinir.\n",
    "* d değeri, e * d ≡ 1 (mod φ(N)) olacak şekilde seçilir. d değeri private exponent olarak da bilinir.\n",
    "* Public key = (N, e) olur.\n",
    "* Private key = (N, d) olur.\n",
    "\n",
    "* Bunlara ek olarak karakterlerin hex karşılıklarını kullanarak işlemler gerçekleştirilmiştir."
   ]
  },
  {
   "cell_type": "markdown",
   "metadata": {},
   "source": [
    "# RSA Encryption / Decryption\n",
    "\n",
    "Şifreleme için aşağıdaki adımlar izlenir:\n",
    "* Plaintext mesaj, hexadecimal formatına çevrilir.\n",
    "* Hexadecimal formatındaki mesaj, public key ile şifrelenir.\n",
    "* Şifreleme için aşağıdaki formül kullanılır:  \n",
    "    * C = P^e mod N\n",
    "    * C: Şifreli mesaj\n",
    "    * P: Plaintext mesaj\n",
    "    * e: Public exponent\n",
    "    * N: Modulüs\n",
    "\n",
    "Deşifreleme için aşağıdaki adımlar izlenir:\n",
    "* Şifreli mesaj, private key ile deşifre edilir.\n",
    "* Deşifre edilen mesaj, hexadecimal formatındadır. Bu mesajı ASCII formatına çevirerek orjinal mesajı elde ederiz.\n",
    "* Deşifreleme için aşağıdaki formül kullanılır:  \n",
    "    * P = C^d mod N\n",
    "    * P: Plaintext mesaj\n",
    "    * C: Şifreli mesaj\n",
    "    * d: Private exponent\n",
    "    * N: Modulüs"
   ]
  },
  {
   "cell_type": "markdown",
   "metadata": {},
   "source": [
    "# Sonuçlar\n",
    "Böylelikle yukarıdaki işlemler ile aşağıdaki kazanımlar elde edilmiş oldu.\n",
    "* Alice den Bob a gönderilen mesajın gizliliği (confidentiality), bob un public key i ile şifrelenerek sağlanmıştır.\n",
    "* Bob a gönderilen mesajın Alice tarafından gönderildiğinin doğruluğu (authenticity), Alice in public key i ile açılarak sağlanmıştır.\n",
    "* Mesajın hash değeri ile üçüncü kişiler tarafından değiştirilmediğinden (integrity) emin olunmuştur."
   ]
  },
  {
   "cell_type": "markdown",
   "metadata": {},
   "source": [
    "# Referanslar\n",
    "\n",
    "* <div> Icons made by <a href=\"https://www.flaticon.com/authors/edtim\" title=\"edt.im\"> edt.im </a> from <a href=\"https://www.flaticon.com/\" title=\"Flaticon\">www.flaticon.com</a></div>\n",
    "* <div> Icons made by <a href=\"https://www.freepik.com\" title=\"Freepik\"> Freepik </a> from <a href=\"https://www.flaticon.com/\" title=\"Flaticon\">www.flaticon.com</a></div>\n",
    "* <a href=\"https://www.flaticon.com/free-icons/sell\" title=\"sell icons\">Sell icons created by itim2101 - Flaticon</a>"
   ]
  }
 ],
 "metadata": {
  "kernelspec": {
   "display_name": "python_3_12_2_venv",
   "language": "python",
   "name": "python3"
  },
  "language_info": {
   "codemirror_mode": {
    "name": "ipython",
    "version": 3
   },
   "file_extension": ".py",
   "mimetype": "text/x-python",
   "name": "python",
   "nbconvert_exporter": "python",
   "pygments_lexer": "ipython3",
   "version": "3.12.3"
  }
 },
 "nbformat": 4,
 "nbformat_minor": 2
}
